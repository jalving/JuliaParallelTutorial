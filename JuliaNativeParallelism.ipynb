{
 "cells": [
  {
   "cell_type": "markdown",
   "metadata": {},
   "source": [
    "# Running Native Julia Parallelism\n",
    "## The Basics\n",
    "### Jordan Jalving\n",
    "\n",
    "### University of Wisconsin-Madison\n"
   ]
  },
  {
   "cell_type": "markdown",
   "metadata": {},
   "source": [
    "## Starting a Parallel Session\n",
    "There are two ways to start using Parallel processing in Julia.  \n",
    "1. Start your Julia session with `~$ julia -p <n_workers>`\n",
    "2. Run `addprocs(<n_workers>)` in a session\n",
    "\n",
    "Since we are using an IJulia notebook, we will use the second option here to add our worker processes\n"
   ]
  },
  {
   "cell_type": "code",
   "execution_count": 2,
   "metadata": {},
   "outputs": [],
   "source": [
    "#Add processors to your Julia session\n",
    "addprocs(3) #Here, we add 3 workers\n",
    "println(\"Processors in session = \",nprocs())"
   ]
  },
  {
   "cell_type": "code",
   "execution_count": 3,
   "metadata": {},
   "outputs": [],
   "source": [
    "#gets number of worker processes.  The process running Julia is not a workers\n",
    "n_workers = nworkers() \n",
    "println(\"The number of worker processors is: $n_workers\")"
   ]
  },
  {
   "cell_type": "code",
   "execution_count": 4,
   "metadata": {},
   "outputs": [
    {
     "name": "stdout",
     "output_type": "stream",
     "text": [
      "Processors in session = 4\n",
      "The number of worker processors is: 3\n"
     ]
    }
   ],
   "source": [
    "#Get array of worker processors\n",
    "worker_ids = workers()\n",
    "println(\"The worker ids are: \", worker_ids)"
   ]
  },
  {
   "cell_type": "markdown",
   "metadata": {},
   "source": [
    " --- "
   ]
  },
  {
   "cell_type": "markdown",
   "metadata": {},
   "source": [
    "## Distributed Parallelism: Remote Calls and Futures\n",
    "\n",
    "Julia uses the concept of remote calls and futures to manage processing and communication. Think of it as if\n",
    "each processor has its own memory domain and can send and request data from other processors.\n",
    "\n",
    "We will showcase the basic functions using a simple 3x3 matrix"
   ]
  },
  {
   "cell_type": "code",
   "execution_count": 5,
   "metadata": {},
   "outputs": [
    {
     "data": {
      "text/plain": [
       "3×3 Array{Float64,2}:\n",
       " 0.479701  0.769008  0.537726\n",
       " 0.883462  0.738838  0.185219\n",
       " 0.679535  0.858712  0.312926"
      ]
     },
     "execution_count": 5,
     "metadata": {},
     "output_type": "execute_result"
    },
    {
     "name": "stdout",
     "output_type": "stream",
     "text": [
      "The worker ids are: [2, 3, 4]\n"
     ]
    }
   ],
   "source": [
    "#This is how to make a random 3x3 matrix in Julia.  This creates the matrix on the local process.\n",
    "rand(3,3)"
   ]
  },
  {
   "cell_type": "markdown",
   "metadata": {},
   "source": [
    "### Use `remotecall` to evaluate a function on a given process\n",
    "`remotecall(<function>,<process_id>,[arguments])` is the low-level function to request work to be done on a given process.\n",
    "For instance, we can ask processor 2 to create a random 3x3 matrix."
   ]
  },
  {
   "cell_type": "code",
   "execution_count": 6,
   "metadata": {},
   "outputs": [
    {
     "data": {
      "text/plain": [
       "Future(2, 1, 8, Nullable{Any}())"
      ]
     },
     "execution_count": 6,
     "metadata": {},
     "output_type": "execute_result"
    }
   ],
   "source": [
    "#Call the rand function on worker 2 with arguments (3,3)\n",
    "#This creates a Future r on the local process\n",
    "r = remotecall(rand, 2, 3, 3)"
   ]
  },
  {
   "cell_type": "markdown",
   "metadata": {},
   "source": [
    "r is a Future (i.e. a remote reference).  Processor 1 (our julia session) has a reference to the result which will be available on processor 2.\n",
    "\n",
    "Use `fetch(r)` to get the value processor 2 calculated.  **NOTE:  This will move the data from processor 2 to processor 1 (overhead).**"
   ]
  },
  {
   "cell_type": "code",
   "execution_count": 7,
   "metadata": {},
   "outputs": [
    {
     "data": {
      "text/plain": [
       "3×3 Array{Float64,2}:\n",
       " 0.125253  0.659167  0.338948 \n",
       " 0.730049  0.173949  0.268018 \n",
       " 0.264575  0.35669   0.0147856"
      ]
     },
     "execution_count": 7,
     "metadata": {},
     "output_type": "execute_result"
    }
   ],
   "source": [
    "#Get the value of r.  The local process will wait until the \n",
    "#value is ready (i.e. fetch is blocking)\n",
    "fetch(r)"
   ]
  },
  {
   "cell_type": "markdown",
   "metadata": {},
   "source": [
    "--- "
   ]
  },
  {
   "cell_type": "markdown",
   "metadata": {},
   "source": [
    "### Use `@spawnat` to evaluate an expression on a given process\n",
    "@spawnat is a macro, which means we can pass any valid expression as an argument.  It is the macro equivalent of `remotecall(<function>,<process_id>,[arguments])` and has the form `@spawnat <process_id> <expression>`\n",
    "___"
   ]
  },
  {
   "cell_type": "code",
   "execution_count": 8,
   "metadata": {},
   "outputs": [
    {
     "data": {
      "text/plain": [
       "Future(3, 1, 10, Nullable{Any}())"
      ]
     },
     "execution_count": 8,
     "metadata": {},
     "output_type": "execute_result"
    }
   ],
   "source": [
    "#run rand(3,3) command on processor 3\n",
    "s1 = @spawnat 3 rand(3,3)"
   ]
  },
  {
   "cell_type": "code",
   "execution_count": 9,
   "metadata": {},
   "outputs": [
    {
     "data": {
      "text/plain": [
       "3×3 Array{Float64,2}:\n",
       " 0.0850143  0.515755  0.838141\n",
       " 0.45166    0.722862  0.52113 \n",
       " 0.896882   0.126582  0.770613"
      ]
     },
     "execution_count": 9,
     "metadata": {},
     "output_type": "execute_result"
    }
   ],
   "source": [
    "#fetch the value the same way\n",
    "fetch(s1)"
   ]
  },
  {
   "cell_type": "markdown",
   "metadata": {},
   "source": [
    "#### NOTE: `fetch(<Remote Reference>)` can be used to move data from worker to worker"
   ]
  },
  {
   "cell_type": "code",
   "execution_count": 10,
   "metadata": {},
   "outputs": [
    {
     "data": {
      "text/plain": [
       "Future(3, 1, 13, Nullable{Any}())"
      ]
     },
     "execution_count": 10,
     "metadata": {},
     "output_type": "execute_result"
    }
   ],
   "source": [
    "#Call rand(3,3) on processor 2\n",
    "r = remotecall(rand, 2, 3, 3) \n",
    "\n",
    "#Spawn the operation `1 + fetch(r)` on process 3 by passing the remote reference r\n",
    "s2 = @spawnat 3 1 + fetch(r) "
   ]
  },
  {
   "cell_type": "code",
   "execution_count": 11,
   "metadata": {},
   "outputs": [],
   "source": [
    "#fetch the value from processor 2\n",
    "println(fetch(r))\n",
    "#Fetch the value from processor 3\n",
    "println(fetch(s2))"
   ]
  },
  {
   "cell_type": "markdown",
   "metadata": {},
   "source": [
    "--- "
   ]
  },
  {
   "cell_type": "markdown",
   "metadata": {},
   "source": [
    "### Use `remotecall_fetch`  to obtain a remotely-computed value immediately\n",
    "\n",
    "#### NOTE: This is equivalent to `fetch(remotecall())`, but it's more efficient.  This function is typically used inside loops to get values "
   ]
  },
  {
   "cell_type": "code",
   "execution_count": 12,
   "metadata": {},
   "outputs": [
    {
     "data": {
      "text/plain": [
       "3×3 Array{Float64,2}:\n",
       " 0.942117  0.0737329  0.195308 \n",
       " 0.751556  0.257781   0.0448505\n",
       " 0.648951  0.718478   0.648209 "
      ]
     },
     "execution_count": 12,
     "metadata": {},
     "output_type": "execute_result"
    }
   ],
   "source": [
    "#run rand on process 2 with arguments (3,3).  Fetch the result immediately.\n",
    "remotecall_fetch(rand, 2, 3, 3)"
   ]
  },
  {
   "cell_type": "code",
   "execution_count": 13,
   "metadata": {},
   "outputs": [
    {
     "data": {
      "text/plain": [
       "3×3 Array{Float64,2}:\n",
       " 0.893338  0.766448  0.389638 \n",
       " 0.798965  0.813964  0.0714478\n",
       " 0.48587   0.461909  0.433222 "
      ]
     },
     "execution_count": 13,
     "metadata": {},
     "output_type": "execute_result"
    }
   ],
   "source": [
    "#remotecall_fetch is the same as fetch(remotecall()), but usually more efficient\n",
    "fetch(remotecall(rand,2,3,3))"
   ]
  },
  {
   "cell_type": "markdown",
   "metadata": {},
   "source": [
    "--- "
   ]
  },
  {
   "cell_type": "markdown",
   "metadata": {},
   "source": [
    "### Use `@spawn` to make things easier.\n",
    "`@spawn` is like `remotecall` and `@spawnat`, but Julia's task manager picks the processor to use"
   ]
  },
  {
   "cell_type": "code",
   "execution_count": 14,
   "metadata": {},
   "outputs": [
    {
     "name": "stdout",
     "output_type": "stream",
     "text": [
      "[0.745895 0.533254 0.448283; 0.669988 0.842896 0.166619; 0.481021 0.356118 0.650462]\n",
      "[1.74589 1.53325 1.44828; 1.66999 1.8429 1.16662; 1.48102 1.35612 1.65046]\n"
     ]
    },
    {
     "data": {
      "text/plain": [
       "Future(3, 1, 19, Nullable{Any}())"
      ]
     },
     "execution_count": 14,
     "metadata": {},
     "output_type": "execute_result"
    }
   ],
   "source": [
    "#Spawn the task rand(3,3).  Let Julia pick where to run it\n",
    "s = @spawn rand(3,3)"
   ]
  },
  {
   "cell_type": "code",
   "execution_count": 15,
   "metadata": {},
   "outputs": [
    {
     "data": {
      "text/plain": [
       "3×3 Array{Float64,2}:\n",
       " 0.0741628  0.694528  0.115329\n",
       " 0.147103   0.178699  0.657085\n",
       " 0.869164   0.950188  0.919289"
      ]
     },
     "execution_count": 15,
     "metadata": {},
     "output_type": "execute_result"
    }
   ],
   "source": [
    "#Fetch the result the same way\n",
    "fetch(s)"
   ]
  },
  {
   "cell_type": "markdown",
   "metadata": {},
   "source": [
    "---\n",
    "---"
   ]
  },
  {
   "cell_type": "markdown",
   "metadata": {},
   "source": [
    "## Asynchronous Parallelism: Using @sync and @async to manage tasks\n",
    "So far, we showed how to use `remotecall`,`@spawnat`, and `@spawn` to dispatch work to other processes.  In any useful parallel application however, we would want to manage communication between our workers.  This can be done using the `@async` and `@sync` macros."
   ]
  },
  {
   "cell_type": "markdown",
   "metadata": {},
   "source": [
    "### Use @sync and @async to manage asynchronous computing\n",
    "`@async <expression>`: Create a task on the master process that runs the expression.  Julia will continue without waiting for `@async` to finish.\n",
    "\n",
    "`@sync <expression>`: Wait for enclosed uses of `@async`,`@spawn`,`@spawnat` to finish.  Typically these to macros get used in the form:\n",
    "\n",
    "```julia\n",
    "@sync begin \n",
    "    for i = 1:n_workers\n",
    "        @async begin #start a @async task on the Julia process\n",
    "            #...\n",
    "            #dispatch work to worker i (e.g. using remotecall_fetch())\n",
    "            #...\n",
    "        end\n",
    "    end  #end for\n",
    "end  #wait for all the @async tasks to finish\n",
    " ```"
   ]
  },
  {
   "cell_type": "markdown",
   "metadata": {},
   "source": [
    "### @sync @async?  What's the difference?\n",
    "These two macros often get confused.  Let's look at a couple examples to make their use more clear using \n",
    "some simple `sleep()` calls"
   ]
  },
  {
   "cell_type": "code",
   "execution_count": 16,
   "metadata": {},
   "outputs": [],
   "source": [
    "#Sleep for 2 seconds\n",
    "@time sleep(2)"
   ]
  },
  {
   "cell_type": "markdown",
   "metadata": {},
   "source": [
    "#### Asynchrounous `sleep()`.  Remember, Julia will not wait for `@async` to complete"
   ]
  },
  {
   "cell_type": "code",
   "execution_count": 36,
   "metadata": {},
   "outputs": [
    {
     "data": {
      "text/plain": [
       "Task (runnable) @0x00007f89bad63490"
      ]
     },
     "execution_count": 36,
     "metadata": {},
     "output_type": "execute_result"
    },
    {
     "name": "stdout",
     "output_type": "stream",
     "text": [
      "  0.000087 seconds (20 allocations: 1.875 KiB)\n"
     ]
    }
   ],
   "source": [
    "@time @async sleep(2)"
   ]
  },
  {
   "cell_type": "code",
   "execution_count": 35,
   "metadata": {},
   "outputs": [
    {
     "data": {
      "text/plain": [
       "Task (done) @0x00007f89bad4c010"
      ]
     },
     "execution_count": 35,
     "metadata": {},
     "output_type": "execute_result"
    },
    {
     "name": "stdout",
     "output_type": "stream",
     "text": [
      "  2.007089 seconds (235 allocations: 15.078 KiB)\n"
     ]
    }
   ],
   "source": [
    "#@sync will wait for the enclosed use of @async to finish\n",
    "@time @sync @async sleep(2)"
   ]
  },
  {
   "cell_type": "markdown",
   "metadata": {},
   "source": [
    "### The wrong way to schedule workers.  How long will this code take?  Why?"
   ]
  },
  {
   "cell_type": "code",
   "execution_count": 37,
   "metadata": {},
   "outputs": [
    {
     "name": "stdout",
     "output_type": "stream",
     "text": [
      "Sending work to 2\n",
      "Sending work to 3\n",
      "Sending work to 4\n",
      "  6.012692 seconds (2.49 k allocations: 139.984 KiB)\n"
     ]
    }
   ],
   "source": [
    "@time begin\n",
    "    for (idx, pid) in enumerate(workers())\n",
    "        println(\"Sending work to $pid\")\n",
    "        remotecall_fetch(sleep,pid, 2)\n",
    "    end\n",
    "end"
   ]
  },
  {
   "cell_type": "markdown",
   "metadata": {},
   "source": [
    "### The correct way to schedule.  Use @sync and @async"
   ]
  },
  {
   "cell_type": "code",
   "execution_count": 38,
   "metadata": {},
   "outputs": [
    {
     "name": "stdout",
     "output_type": "stream",
     "text": [
      "sending work to 2\n",
      "sending work to 3\n",
      "sending work to 4\n",
      "  2.008188 seconds (1.32 k allocations: 83.664 KiB)\n"
     ]
    }
   ],
   "source": [
    "@time begin\n",
    "    @sync for (idx, pid) in enumerate(workers())\n",
    "        println(\"sending work to $pid\")\n",
    "        @async remotecall_fetch(sleep,pid, 2)\n",
    "    end\n",
    "end"
   ]
  },
  {
   "cell_type": "markdown",
   "metadata": {},
   "source": [
    "### What if we forget the @sync?"
   ]
  },
  {
   "cell_type": "code",
   "execution_count": 39,
   "metadata": {},
   "outputs": [
    {
     "name": "stdout",
     "output_type": "stream",
     "text": [
      "sending work to 2\n",
      "sending work to 3\n",
      "sending work to 4\n",
      "  0.003885 seconds (432 allocations: 30.336 KiB)\n"
     ]
    }
   ],
   "source": [
    "@time begin\n",
    "    for (idx, pid) in enumerate(workers())\n",
    "        println(\"sending work to $pid\")\n",
    "        @async remotecall_fetch(sleep,pid, 2)\n",
    "    end\n",
    "end"
   ]
  },
  {
   "cell_type": "markdown",
   "metadata": {},
   "source": [
    "--- \n",
    "---"
   ]
  },
  {
   "cell_type": "markdown",
   "metadata": {},
   "source": [
    "## A more interesting example: `pmap`\n",
    "**Now that we ~~have mastered~~ hopefully understand the basics of Julia's parallel functions, pmap may seem less mysterious.  Here, we have a slightly modified version of the pmap function.**"
   ]
  },
  {
   "cell_type": "code",
   "execution_count": 22,
   "metadata": {},
   "outputs": [
    {
     "data": {
      "text/plain": [
       "my_pmap (generic function with 1 method)"
      ]
     },
     "execution_count": 22,
     "metadata": {},
     "output_type": "execute_result"
    },
    {
     "name": "stdout",
     "output_type": "stream",
     "text": [
      "sending work to 3\n",
      "sending work to 4\n",
      "  0.005282 seconds (1.76 k allocations: 112.695 KiB)\n"
     ]
    }
   ],
   "source": [
    "function my_pmap(f, lst)  #apply the function f to arguments in lst\n",
    "    np = nprocs()         # determine the number of processes available\n",
    "    n = length(lst)       #lst is a list of n arguments.\n",
    "    results = Vector{Any}(n)\n",
    "    i = 1\n",
    "    # function to produce the next work item from the queue.\n",
    "    # in this case it's just an index.\n",
    "    nextidx() = (idx=i; i+=1; idx)\n",
    "    @sync begin\n",
    "        #Create a feeder task (using @async) for each worker\n",
    "        for p = workers()\n",
    "            @async begin  \n",
    "                while true #feeder task runs constantly\n",
    "                    idx = nextidx()\n",
    "                    if idx > n\n",
    "                        break\n",
    "                    end\n",
    "                    println(\"Sent argument $idx to worker $p\")\n",
    "                    results[idx] = remotecall_fetch(f, p, lst[idx])\n",
    "                end\n",
    "            end\n",
    "        end\n",
    "    end\n",
    "    results\n",
    "end"
   ]
  },
  {
   "cell_type": "markdown",
   "metadata": {},
   "source": [
    "#### Let's look at what happens when we want to do singular value decomposition on a list of matrices"
   ]
  },
  {
   "cell_type": "code",
   "execution_count": 23,
   "metadata": {},
   "outputs": [
    {
     "name": "stdout",
     "output_type": "stream",
     "text": [
      "Sent argument 1 to worker 2\n",
      "Sent argument 2 to worker 3\n",
      "Sent argument 3 to worker 4\n",
      "Sent argument 4 to worker 2\n",
      "Sent argument 5 to worker 4\n",
      "Sent argument 6 to worker 3\n",
      "Sent argument 7 to worker 2\n",
      "Sent argument 8 to worker 4\n",
      "Sent argument 9 to worker 3\n",
      "Sent argument 10 to worker 2\n",
      "Sent argument 11 to worker 4\n",
      "Sent argument 12 to worker 3\n",
      "Sent argument 13 to worker 2\n",
      "Sent argument 14 to worker 4\n",
      "Sent argument 15 to worker 2\n",
      "Sent argument 16 to worker 3\n",
      "Sent argument 17 to worker 4\n",
      "Sent argument 18 to worker 2\n",
      "Sent argument 19 to worker 3\n",
      "Sent argument 20 to worker 4\n"
     ]
    }
   ],
   "source": [
    "@time begin \n",
    "    M = [rand(1000,1000) for _ = 1:20];\n",
    "    my_pmap(svd,M);\n",
    "end;"
   ]
  },
  {
   "cell_type": "markdown",
   "metadata": {},
   "source": [
    "### How does the serial version compare?"
   ]
  },
  {
   "cell_type": "code",
   "execution_count": 24,
   "metadata": {},
   "outputs": [
    {
     "name": "stdout",
     "output_type": "stream",
     "text": [
      " 20.367115 seconds (77.66 k allocations: 488.457 MiB, 2.09% gc time)\n"
     ]
    }
   ],
   "source": [
    "@time begin \n",
    "    M = [rand(1000,1000) for _ = 1:20]\n",
    "    map(svd,M)\n",
    "end;"
   ]
  },
  {
   "cell_type": "markdown",
   "metadata": {},
   "source": [
    "### Use `@everywhere` do define data on every process"
   ]
  },
  {
   "cell_type": "code",
   "execution_count": 25,
   "metadata": {},
   "outputs": [
    {
     "name": "stdout",
     "output_type": "stream",
     "text": [
      " 25.661011 seconds (122.76 k allocations: 1.201 GiB, 2.16% gc time)\n"
     ]
    }
   ],
   "source": [
    "#calculate the SVD of a random square matrix\n",
    "@everywhere function calc_svd(i::Int)\n",
    "    M = rand(i,i)\n",
    "    return svd(M)\n",
    "end"
   ]
  },
  {
   "cell_type": "code",
   "execution_count": 26,
   "metadata": {},
   "outputs": [
    {
     "data": {
      "text/plain": [
       "([-0.0317059 0.00404549 … -0.0342485 0.0111302; -0.0313829 -0.00418642 … -0.000998294 0.0451431; … ; -0.0312815 -0.0357524 … 0.00237379 -0.0343071; -0.0316478 0.0317083 … -0.0127114 0.0272311], [499.958, 18.1021, 17.9408, 17.8671, 17.8232, 17.7472, 17.7035, 17.6379, 17.5585, 17.5489  …  0.123851, 0.116806, 0.101283, 0.0936706, 0.0742818, 0.0563122, 0.0443592, 0.0282945, 0.0188325, 3.02856e-5], [-0.0320982 0.00691944 … 0.026676 0.0398728; -0.0311627 -0.00758673 … -0.0115975 0.0280118; … ; -0.0315299 0.0511513 … 0.0213456 -0.00964006; -0.0313196 -0.0353747 … 0.011678 0.0262191])"
      ]
     },
     "execution_count": 26,
     "metadata": {},
     "output_type": "execute_result"
    }
   ],
   "source": [
    "(U,E,V) = calc_svd(1000)\n"
   ]
  },
  {
   "cell_type": "markdown",
   "metadata": {},
   "source": [
    "**Here, we can use a custom function to tell Julia to create the matrices on the workers instead of the master process.  However, since SVD is more computationally intense, this is unlikely to produce much speedup**"
   ]
  },
  {
   "cell_type": "code",
   "execution_count": 27,
   "metadata": {},
   "outputs": [
    {
     "name": "stdout",
     "output_type": "stream",
     "text": [
      "Sent argument 1 to worker 2\n",
      "Sent argument 2 to worker 3\n",
      "Sent argument 3 to worker 4\n",
      "Sent argument 4 to worker 2\n",
      "Sent argument 5 to worker 3\n",
      "Sent argument 6 to worker 4\n",
      "Sent argument 7 to worker 4\n",
      "Sent argument 8 to worker 2\n",
      "Sent argument 9 to worker 3\n",
      "Sent argument 10 to worker 3\n",
      "Sent argument 11 to worker 4\n",
      "Sent argument 12 to worker 2\n",
      "Sent argument 13 to worker 3\n",
      "Sent argument 14 to worker 2\n",
      "Sent argument 15 to worker 4\n",
      "Sent argument 16 to worker 2\n",
      "Sent argument 17 to worker 3\n",
      "Sent argument 18 to worker 4\n",
      "Sent argument 19 to worker 2\n",
      "Sent argument 20 to worker 4\n"
     ]
    }
   ],
   "source": [
    "@time my_pmap(calc_svd,[1000 for _ = 1:20]);"
   ]
  },
  {
   "cell_type": "markdown",
   "metadata": {},
   "source": [
    "---\n",
    "---"
   ]
  },
  {
   "cell_type": "markdown",
   "metadata": {},
   "source": [
    "## Another example: Calculating Pi using Monte Carlo Sampling"
   ]
  },
  {
   "cell_type": "markdown",
   "metadata": {},
   "source": [
    "![](MonteCarlo.png)"
   ]
  },
  {
   "cell_type": "markdown",
   "metadata": {},
   "source": [
    "**We can numerically estimate $\\pi$ by randomly generating points inside a quadrantand counting how many land inside the unit circle**"
   ]
  },
  {
   "cell_type": "markdown",
   "metadata": {},
   "source": [
    "$A_{square} = 1$\n",
    "\n",
    "$A_{circle} = \\frac{\\pi}{4}$\n",
    "\n",
    "$\\pi = 4 * \\frac{A_{circle}}{A_{square}}$"
   ]
  },
  {
   "cell_type": "markdown",
   "metadata": {},
   "source": [
    "For any uniformly distributed point with uniformly distributed random coordinates $(x,y) \\sim U(0,1)$, a point is in the unit circle if \n",
    "$x^2 + y^2 \\le 1$"
   ]
  },
  {
   "cell_type": "markdown",
   "metadata": {},
   "source": [
    "$x \\sim U(0,1)$\n",
    "\n",
    "$y \\sim U(0,1)$\n",
    "\n",
    "$x^2 + y^2 \\le 1$\n",
    "\n",
    "We can then estimate pi as the ratio of points inside the circle over total points generated:\n",
    "\n",
    "$ \\pi \\approx 4 * \\frac{\\text{N points inside circle}}{\\text{N total}}$"
   ]
  },
  {
   "cell_type": "markdown",
   "metadata": {},
   "source": [
    "### A reasonable serial implementation for Julia\n",
    "#### Here, we loop through 1 billion points and check if each is in the unit circle"
   ]
  },
  {
   "cell_type": "code",
   "execution_count": 28,
   "metadata": {},
   "outputs": [
    {
     "name": "stdout",
     "output_type": "stream",
     "text": [
      " 19.086003 seconds (38.13 k allocations: 307.012 MiB)\n"
     ]
    }
   ],
   "source": [
    "tic()\n",
    "function in_circle(numPoints)\n",
    "    N_inside = 0           #initially, no points in circle\n",
    "    for i = 1:numPoints\n",
    "        x = rand()\n",
    "        y = rand()\n",
    "        x^2 + y^2 < 1 ? N_inside += 1 : N_inside += 0\n",
    "    end\n",
    "    return N_inside\n",
    "end\n",
    "numPoints = 1E9\n",
    "pi_approx = 4 * in_circle(numPoints) / numPoints\n",
    "toc()\n",
    "println(\"approximation = \",pi_approx)"
   ]
  },
  {
   "cell_type": "markdown",
   "metadata": {},
   "source": [
    "## Exercise: Write a parallel code to estimate $\\pi$"
   ]
  },
  {
   "cell_type": "code",
   "execution_count": 29,
   "metadata": {},
   "outputs": [
    {
     "data": {
      "text/plain": [
       "3.141629144"
      ]
     },
     "execution_count": 29,
     "metadata": {},
     "output_type": "execute_result"
    },
    {
     "name": "stdout",
     "output_type": "stream",
     "text": [
      "elapsed time: 8.978742288 seconds\n",
      "approximation = 3.141486208\n"
     ]
    }
   ],
   "source": [
    "#Modify this serial code\n",
    "function in_circle(numPoints)\n",
    "    N_inside = 0\n",
    "    for i = 1:numPoints\n",
    "        x = rand()\n",
    "        y = rand()\n",
    "        x^2 + y^2 < 1 ? N_inside += 1 : N_inside += 0\n",
    "    end\n",
    "    return N_inside\n",
    "end\n",
    "numPoints = 1E9\n",
    "pi_approx = 4 * in_circle(numPoints) / numPoints\n",
    "\n",
    "#One hint: This can be done with partitions\n",
    "#e.g. partitions = [convert(Int64,round(numPoints / 3)) for i = 1:3]"
   ]
  },
  {
   "cell_type": "markdown",
   "metadata": {},
   "source": [
    "---\n",
    "---\n",
    "---\n",
    "---\n",
    "---"
   ]
  },
  {
   "cell_type": "markdown",
   "metadata": {},
   "source": [
    "## One Solution: Partitioned pmap implementation\n",
    "#### with pmap, we can partition into 3 subsets and have our workers run their own loops "
   ]
  },
  {
   "cell_type": "code",
   "execution_count": 30,
   "metadata": {},
   "outputs": [],
   "source": [
    "tic()\n",
    "@everywhere function in_circle(numPoints)\n",
    "    N_inside = 0\n",
    "    for i = 1:numPoints\n",
    "        x = rand()\n",
    "        y = rand()\n",
    "        x^2 + y^2 < 1? N_inside += 1 : N_inside += 0\n",
    "    end\n",
    "    return N_inside\n",
    "end\n",
    "\n",
    "numPoints = 1E9\n",
    "partitions = [convert(Int64,round(numPoints / 3)) for i = 1:3]\n",
    "N_inside = pmap(in_circle, partitions)\n",
    "pi_approx = 4*sum(N_inside) / numPoints\n",
    "toc()\n",
    "println(pi_approx)"
   ]
  },
  {
   "cell_type": "markdown",
   "metadata": {},
   "source": [
    "---"
   ]
  },
  {
   "cell_type": "markdown",
   "metadata": {},
   "source": [
    "## Another solution: `@parallel for` ( This was replaced with `@distributed for` in Julia v1.0)\n",
    "#### NOTE: `@parallel (<reduction>) for` allocates workers up front"
   ]
  },
  {
   "cell_type": "code",
   "execution_count": 31,
   "metadata": {},
   "outputs": [
    {
     "name": "stdout",
     "output_type": "stream",
     "text": [
      "elapsed time: 5.4317022 seconds\n",
      "3.141593004\n"
     ]
    }
   ],
   "source": [
    "tic()\n",
    "numPoints = 1E9\n",
    "inside = @parallel (+) for i = 1:numPoints\n",
    "    x = rand()\n",
    "    y = rand()\n",
    "    Int(x^2 + y^2 < 1)\n",
    "end\n",
    "toc()\n",
    "println(4 * inside / numPoints)"
   ]
  },
  {
   "cell_type": "markdown",
   "metadata": {},
   "source": [
    "## Be careful with `@parallel` when modifying variables"
   ]
  },
  {
   "cell_type": "code",
   "execution_count": 32,
   "metadata": {},
   "outputs": [
    {
     "name": "stdout",
     "output_type": "stream",
     "text": [
      "elapsed time: 3.810343981 seconds\n",
      "3.141624692\n"
     ]
    }
   ],
   "source": [
    "a = zeros(10)\n",
    "@parallel for i = 1:10\n",
    "    a[i] = i\n",
    "end;\n",
    "println(a)"
   ]
  },
  {
   "cell_type": "markdown",
   "metadata": {},
   "source": [
    "**NOTE: What happened here is that each process got its own copy of a to do its processing.  As a result, the vector a on the master process did not change.**"
   ]
  },
  {
   "cell_type": "markdown",
   "metadata": {},
   "source": [
    "## Use a `SharedArray` to share values between all processes"
   ]
  },
  {
   "cell_type": "code",
   "execution_count": 34,
   "metadata": {},
   "outputs": [
    {
     "name": "stdout",
     "output_type": "stream",
     "text": [
      "[1.0, 2.0, 3.0, 4.0, 5.0, 6.0, 7.0, 8.0, 9.0, 10.0]\n"
     ]
    }
   ],
   "source": [
    "a = SharedArray{Float64}(10)\n",
    "result = @sync @parallel for i = 1:10\n",
    "    a[i] = i\n",
    "end;\n",
    "println(a)"
   ]
  }
 ],
 "metadata": {
  "kernelspec": {
   "display_name": "Julia 0.6.4",
   "language": "julia",
   "name": "julia-0.6"
  },
  "language_info": {
   "file_extension": ".jl",
   "mimetype": "application/julia",
   "name": "julia",
   "version": "0.6.4"
  }
 },
 "nbformat": 4,
 "nbformat_minor": 2
}
