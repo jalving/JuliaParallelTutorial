{
 "cells": [
  {
   "cell_type": "markdown",
   "metadata": {},
   "source": [
    "# Running Native Julia Parallelism\n",
    "## The Basics\n",
    "### Jordan Jalving\n",
    "\n",
    "### University of Wisconsin-Madison\n"
   ]
  },
  {
   "cell_type": "markdown",
   "metadata": {},
   "source": [
    "## Starting a Parallel Session\n",
    "There are two ways to start using Parallel processing in Julia.  \n",
    "1. Start your Julia session with `~$ julia -p <n_workers>`\n",
    "2. Run `addprocs(<n_workers>)` in a session\n",
    "\n",
    "Since we are using an IJulia notebook, we will use the second option here to add our worker processes\n"
   ]
  },
  {
   "cell_type": "code",
   "execution_count": 2,
   "metadata": {},
   "outputs": [
    {
     "name": "stdout",
     "output_type": "stream",
     "text": [
      "Processors in session = 4\n"
     ]
    }
   ],
   "source": [
    "#Add processors to your Julia session\n",
    "addprocs(3) #Here, we add 3 workers\n",
    "println(\"Processors in session = \",nprocs())"
   ]
  },
  {
   "cell_type": "code",
   "execution_count": 3,
   "metadata": {},
   "outputs": [
    {
     "name": "stdout",
     "output_type": "stream",
     "text": [
      "The number of worker processors is: 2\n"
     ]
    }
   ],
   "source": [
    "#gets number of worker processes.  The process running Julia is not a workers\n",
    "n_workers = nworkers() \n",
    "println(\"The number of worker processors is: $n_workers\")"
   ]
  },
  {
   "cell_type": "code",
   "execution_count": 4,
   "metadata": {},
   "outputs": [
    {
     "name": "stdout",
     "output_type": "stream",
     "text": [
      "The worker ids are: [2, 3]\n"
     ]
    }
   ],
   "source": [
    "#Get array of worker processors\n",
    "worker_ids = workers()\n",
    "println(\"The worker ids are: \", worker_ids)"
   ]
  },
  {
   "cell_type": "markdown",
   "metadata": {},
   "source": [
    " --- "
   ]
  },
  {
   "cell_type": "markdown",
   "metadata": {},
   "source": [
    "## Distributed Parallelism: Remote Calls and Futures\n",
    "\n",
    "Julia uses the concept of remote calls and futures to manage processing and communication. Think of it as if\n",
    "each processor has its own memory domain and can send and request data from other processors.\n",
    "\n",
    "We will showcase the basic functions using a simple 3x3 matrix"
   ]
  },
  {
   "cell_type": "code",
   "execution_count": 5,
   "metadata": {},
   "outputs": [
    {
     "data": {
      "text/plain": [
       "3×3 Array{Float64,2}:\n",
       " 0.907714  0.133574  0.360118\n",
       " 0.401509  0.727763  0.982123\n",
       " 0.101566  0.487098  0.179558"
      ]
     },
     "execution_count": 5,
     "metadata": {},
     "output_type": "execute_result"
    }
   ],
   "source": [
    "#This is how to make a random 3x3 matrix in Julia.  This creates the matrix on the local process.\n",
    "rand(3,3)"
   ]
  },
  {
   "cell_type": "markdown",
   "metadata": {},
   "source": [
    "### Use `remotecall` to evaluate a function on a given process\n",
    "`remotecall(<function>,<process_id>,[arguments])` is the low-level function to request work to be done on a given process.\n",
    "For instance, we can ask processor 2 to create a random 3x3 matrix."
   ]
  },
  {
   "cell_type": "code",
   "execution_count": 6,
   "metadata": {},
   "outputs": [
    {
     "data": {
      "text/plain": [
       "Future(2, 1, 4, Nullable{Any}())"
      ]
     },
     "execution_count": 6,
     "metadata": {},
     "output_type": "execute_result"
    }
   ],
   "source": [
    "#Call the rand function on worker 2 with arguments (3,3)\n",
    "#This creates a Future r on the local process\n",
    "r = remotecall(rand, 2, 3, 3)"
   ]
  },
  {
   "cell_type": "markdown",
   "metadata": {},
   "source": [
    "r is a Future (i.e. a remote reference).  Processor 1 (our julia session) has a reference to the result which will be available on processor 2.\n",
    "\n",
    "Use `fetch(r)` to get the value processor 2 calculated.  **NOTE:  This will move the data from processor 2 to processor 1 (overhead).**"
   ]
  },
  {
   "cell_type": "code",
   "execution_count": 7,
   "metadata": {},
   "outputs": [
    {
     "data": {
      "text/plain": [
       "3×3 Array{Float64,2}:\n",
       " 0.154911  0.654919  0.982367\n",
       " 0.819902  0.502235  0.15779 \n",
       " 0.24031   0.453198  0.62019 "
      ]
     },
     "execution_count": 7,
     "metadata": {},
     "output_type": "execute_result"
    }
   ],
   "source": [
    "#Get the value of r.  The local process will wait until the \n",
    "#value is ready (i.e. fetch is blocking)\n",
    "fetch(r)"
   ]
  },
  {
   "cell_type": "markdown",
   "metadata": {},
   "source": [
    "--- "
   ]
  },
  {
   "cell_type": "markdown",
   "metadata": {},
   "source": [
    "### Use `@spawnat` to evaluate an expression on a given process\n",
    "@spawnat is a macro, which means we can pass any valid expression as an argument.  It is the macro equivalent of `remotecall(<function>,<process_id>,[arguments])` and has the form `@spawnat <process_id> <expression>`\n",
    "___"
   ]
  },
  {
   "cell_type": "code",
   "execution_count": 9,
   "metadata": {},
   "outputs": [
    {
     "data": {
      "text/plain": [
       "Future(3, 1, 6, Nullable{Any}())"
      ]
     },
     "execution_count": 9,
     "metadata": {},
     "output_type": "execute_result"
    }
   ],
   "source": [
    "#run rand(3,3) command on processor 3\n",
    "s1 = @spawnat 3 rand(3,3)"
   ]
  },
  {
   "cell_type": "code",
   "execution_count": 10,
   "metadata": {},
   "outputs": [
    {
     "data": {
      "text/plain": [
       "3×3 Array{Float64,2}:\n",
       " 0.990488  0.034919  0.537269\n",
       " 0.622238  0.408424  0.659486\n",
       " 0.48038   0.372676  0.30252 "
      ]
     },
     "execution_count": 10,
     "metadata": {},
     "output_type": "execute_result"
    }
   ],
   "source": [
    "#fetch the value the same way\n",
    "fetch(s1)"
   ]
  },
  {
   "cell_type": "markdown",
   "metadata": {},
   "source": [
    "#### NOTE: `fetch(<Remote Reference>)` can be used to move data from worker to worker"
   ]
  },
  {
   "cell_type": "code",
   "execution_count": 11,
   "metadata": {},
   "outputs": [
    {
     "data": {
      "text/plain": [
       "Future(3, 1, 9, Nullable{Any}())"
      ]
     },
     "execution_count": 11,
     "metadata": {},
     "output_type": "execute_result"
    }
   ],
   "source": [
    "#Call rand(3,3) on processor 2\n",
    "r = remotecall(rand, 2, 3, 3) \n",
    "\n",
    "#Spawn the operation `1 + fetch(r)` on process 3 by passing the remote reference r\n",
    "s2 = @spawnat 3 1 + fetch(r) "
   ]
  },
  {
   "cell_type": "code",
   "execution_count": 13,
   "metadata": {},
   "outputs": [
    {
     "name": "stdout",
     "output_type": "stream",
     "text": [
      "[0.966091 0.488924 0.355472; 0.111911 0.528139 0.350022; 0.657613 0.0244478 0.128135]\n",
      "[1.96609 1.48892 1.35547; 1.11191 1.52814 1.35002; 1.65761 1.02445 1.12813]\n"
     ]
    }
   ],
   "source": [
    "#fetch the value from processor 2\n",
    "println(fetch(r))\n",
    "#Fetch the value from processor 3\n",
    "println(fetch(s2))"
   ]
  },
  {
   "cell_type": "markdown",
   "metadata": {},
   "source": [
    "--- "
   ]
  },
  {
   "cell_type": "markdown",
   "metadata": {},
   "source": [
    "### Use `remotecall_fetch`  to obtain a remotely-computed value immediately\n",
    "\n",
    "#### NOTE: This is equivalent to `fetch(remotecall())`, but it's more efficient.  This function is typically used inside loops to get values "
   ]
  },
  {
   "cell_type": "code",
   "execution_count": 15,
   "metadata": {},
   "outputs": [
    {
     "data": {
      "text/plain": [
       "3×3 Array{Float64,2}:\n",
       " 0.527964  0.377173   0.795317 \n",
       " 0.472128  0.0793794  0.0377924\n",
       " 0.953235  0.69017    0.92849  "
      ]
     },
     "execution_count": 15,
     "metadata": {},
     "output_type": "execute_result"
    }
   ],
   "source": [
    "#run rand on process 2 with arguments (3,3).  Fetch the result immediately.\n",
    "remotecall_fetch(rand, 2, 3, 3)"
   ]
  },
  {
   "cell_type": "code",
   "execution_count": 14,
   "metadata": {},
   "outputs": [
    {
     "data": {
      "text/plain": [
       "3×3 Array{Float64,2}:\n",
       " 0.743321  0.0782893  0.569942\n",
       " 0.735892  0.930334   0.756292\n",
       " 0.449399  0.445753   0.683127"
      ]
     },
     "execution_count": 14,
     "metadata": {},
     "output_type": "execute_result"
    }
   ],
   "source": [
    "#remotecall_fetch is the same as fetch(remotecall()), but usually more efficient\n",
    "fetch(remotecall(rand,2,3,3))"
   ]
  },
  {
   "cell_type": "markdown",
   "metadata": {},
   "source": [
    "--- "
   ]
  },
  {
   "cell_type": "markdown",
   "metadata": {},
   "source": [
    "### Use `@spawn` to make things easier.\n",
    "`@spawn` is like `remotecall` and `@spawnat`, but Julia's task manager picks the processor to use"
   ]
  },
  {
   "cell_type": "code",
   "execution_count": 16,
   "metadata": {},
   "outputs": [
    {
     "data": {
      "text/plain": [
       "Future(2, 1, 15, Nullable{Any}())"
      ]
     },
     "execution_count": 16,
     "metadata": {},
     "output_type": "execute_result"
    }
   ],
   "source": [
    "#Spawn the task rand(3,3).  Let Julia pick where to run it\n",
    "s = @spawn rand(3,3)"
   ]
  },
  {
   "cell_type": "code",
   "execution_count": 17,
   "metadata": {},
   "outputs": [
    {
     "data": {
      "text/plain": [
       "3×3 Array{Float64,2}:\n",
       " 0.651879  0.159476   0.342553\n",
       " 0.122161  0.0575064  0.757701\n",
       " 0.550802  0.442897   0.892071"
      ]
     },
     "execution_count": 17,
     "metadata": {},
     "output_type": "execute_result"
    }
   ],
   "source": [
    "#Fetch the result the same way\n",
    "fetch(s)"
   ]
  },
  {
   "cell_type": "markdown",
   "metadata": {},
   "source": [
    "---\n",
    "---"
   ]
  },
  {
   "cell_type": "markdown",
   "metadata": {},
   "source": [
    "## Asynchronous Parallelism: Using @sync and @async to manage tasks\n",
    "So far, we showed how to use `remotecall`,`@spawnat`, and `@spawn` to dispatch work to other processes.  In any useful parallel application however, we would want to manage communication between our workers.  This can be done using the `@async` and `@sync` macros."
   ]
  },
  {
   "cell_type": "markdown",
   "metadata": {},
   "source": [
    "### Use @sync and @async to manage asynchronous computing\n",
    "`@async <expression>`: Create a task on the master process that runs the expression.  Julia will continue without waiting for `@async` to finish.\n",
    "\n",
    "`@sync <expression>`: Wait for enclosed uses of `@async`,`@spawn`,`@spawnat` to finish.  Typically these to macros get used in the form:\n",
    "\n",
    "```julia\n",
    "@sync begin \n",
    "    for i = 1:n_workers\n",
    "        @async begin #start a @async task on the Julia process\n",
    "            #...\n",
    "            #dispatch work to worker i (e.g. using remotecall_fetch())\n",
    "            #...\n",
    "        end\n",
    "    end  #end for\n",
    "end  #wait for all the @async tasks to finish\n",
    " ```"
   ]
  },
  {
   "cell_type": "markdown",
   "metadata": {},
   "source": [
    "### @sync @async?  What's the difference?\n",
    "These two macros often get confused.  Let's look at a couple examples to make their use more clear using \n",
    "some simple `sleep()` calls"
   ]
  },
  {
   "cell_type": "code",
   "execution_count": 54,
   "metadata": {},
   "outputs": [
    {
     "name": "stdout",
     "output_type": "stream",
     "text": [
      "  2.001065 seconds (78 allocations: 1.453 KiB)\n"
     ]
    }
   ],
   "source": [
    "#Sleep for 2 seconds\n",
    "@time sleep(2)"
   ]
  },
  {
   "cell_type": "markdown",
   "metadata": {},
   "source": [
    "#### Asynchrounous `sleep()`.  Remember, Julia will not wait for `@async` to complete"
   ]
  },
  {
   "cell_type": "code",
   "execution_count": 18,
   "metadata": {},
   "outputs": [
    {
     "data": {
      "text/plain": [
       "Task (runnable) @0x00007fb733e5e770"
      ]
     },
     "execution_count": 18,
     "metadata": {},
     "output_type": "execute_result"
    },
    {
     "name": "stdout",
     "output_type": "stream",
     "text": [
      "  0.004119 seconds (371 allocations: 24.182 KiB)\n"
     ]
    }
   ],
   "source": [
    "@time @async sleep(2)"
   ]
  },
  {
   "cell_type": "code",
   "execution_count": 19,
   "metadata": {},
   "outputs": [
    {
     "data": {
      "text/plain": [
       "Task (done) @0x00007fb7340a7730"
      ]
     },
     "execution_count": 19,
     "metadata": {},
     "output_type": "execute_result"
    },
    {
     "name": "stdout",
     "output_type": "stream",
     "text": [
      "  2.009708 seconds (288 allocations: 18.438 KiB)\n"
     ]
    }
   ],
   "source": [
    "#@sync will wait for the enclosed use of @async to finish\n",
    "@time @sync @async sleep(2)"
   ]
  },
  {
   "cell_type": "markdown",
   "metadata": {},
   "source": [
    "### The wrong way to schedule workers.  How long will this code take?  Why?"
   ]
  },
  {
   "cell_type": "code",
   "execution_count": 22,
   "metadata": {},
   "outputs": [
    {
     "name": "stdout",
     "output_type": "stream",
     "text": [
      "Sending work to 2\n",
      "Sending work to 3\n",
      "  4.007086 seconds (1.66 k allocations: 93.094 KiB)\n",
      "nothing\n"
     ]
    }
   ],
   "source": [
    "@time begin\n",
    "    for (idx, pid) in enumerate(workers())\n",
    "        println(\"Sending work to $pid\")\n",
    "        remotecall_fetch(sleep,pid, 2)\n",
    "    end\n",
    "end"
   ]
  },
  {
   "cell_type": "markdown",
   "metadata": {},
   "source": [
    "### The correct way to schedule.  Use @sync and @async"
   ]
  },
  {
   "cell_type": "code",
   "execution_count": 23,
   "metadata": {},
   "outputs": [
    {
     "name": "stdout",
     "output_type": "stream",
     "text": [
      "sending work to 2\n",
      "sending work to 3\n",
      "  2.008865 seconds (3.55 k allocations: 204.437 KiB)\n"
     ]
    }
   ],
   "source": [
    "@time begin\n",
    "    @sync for (idx, pid) in enumerate(workers())\n",
    "        println(\"sending work to $pid\")\n",
    "        @async remotecall_fetch(sleep,pid, 2)\n",
    "    end\n",
    "end"
   ]
  },
  {
   "cell_type": "markdown",
   "metadata": {},
   "source": [
    "### What if we forget the @sync?"
   ]
  },
  {
   "cell_type": "code",
   "execution_count": 24,
   "metadata": {},
   "outputs": [
    {
     "name": "stdout",
     "output_type": "stream",
     "text": [
      "sending work to 2\n",
      "sending work to 3\n",
      "  0.005044 seconds (353 allocations: 22.461 KiB)\n"
     ]
    }
   ],
   "source": [
    "@time begin\n",
    "    for (idx, pid) in enumerate(workers())\n",
    "        println(\"sending work to $pid\")\n",
    "        @async remotecall_fetch(sleep,pid, 2)\n",
    "    end\n",
    "end"
   ]
  },
  {
   "cell_type": "markdown",
   "metadata": {},
   "source": [
    "--- \n",
    "---"
   ]
  },
  {
   "cell_type": "markdown",
   "metadata": {},
   "source": [
    "## A more interesting example: `pmap`\n",
    "**Now that we ~~have mastered~~ hopefully understand the basics of Julia's parallel functions, pmap may seem less mysterious.  Here, we have a slightly modified version of the pmap function.**"
   ]
  },
  {
   "cell_type": "code",
   "execution_count": 15,
   "metadata": {},
   "outputs": [
    {
     "data": {
      "text/plain": [
       "my_pmap (generic function with 1 method)"
      ]
     },
     "execution_count": 15,
     "metadata": {},
     "output_type": "execute_result"
    }
   ],
   "source": [
    "function my_pmap(f, lst)  #apply the function f to arguments in lst\n",
    "    np = nprocs()         # determine the number of processes available\n",
    "    n = length(lst)       #lst is a list of n arguments.\n",
    "    results = Vector{Any}(n)\n",
    "    i = 1\n",
    "    # function to produce the next work item from the queue.\n",
    "    # in this case it's just an index.\n",
    "    nextidx() = (idx=i; i+=1; idx)\n",
    "    @sync begin\n",
    "        #Create a feeder task (using @async) for each worker\n",
    "        for p = workers()\n",
    "            @async begin  \n",
    "                while true #feeder task runs constantly\n",
    "                    idx = nextidx()\n",
    "                    if idx > n\n",
    "                        break\n",
    "                    end\n",
    "                    println(\"Sent argument $idx to worker $p\")\n",
    "                    results[idx] = remotecall_fetch(f, p, lst[idx])\n",
    "                end\n",
    "            end\n",
    "        end\n",
    "    end\n",
    "    results\n",
    "end"
   ]
  },
  {
   "cell_type": "markdown",
   "metadata": {},
   "source": [
    "#### Let's look at what happens when we want to do singular value decomposition on a list of matrices"
   ]
  },
  {
   "cell_type": "code",
   "execution_count": 16,
   "metadata": {},
   "outputs": [
    {
     "name": "stdout",
     "output_type": "stream",
     "text": [
      "Sent argument 1 to worker 2\n",
      "Sent argument 2 to worker 3\n",
      "Sent argument 3 to worker 4\n",
      "Sent argument 4 to worker 3\n",
      "Sent argument 5 to worker 2\n",
      "Sent argument 6 to worker 4\n",
      "Sent argument 7 to worker 3\n",
      "Sent argument 8 to worker 4\n",
      "Sent argument 9 to worker 2\n",
      "Sent argument 10 to worker 3\n",
      "Sent argument 11 to worker 4\n",
      "Sent argument 12 to worker 2\n",
      "Sent argument 13 to worker 3\n",
      "Sent argument 14 to worker 4\n",
      "Sent argument 15 to worker 2\n",
      "Sent argument 16 to worker 3\n",
      "Sent argument 17 to worker 4\n",
      "Sent argument 18 to worker 2\n",
      "Sent argument 19 to worker 3\n",
      "Sent argument 20 to worker 4\n",
      " 18.937517 seconds (41.46 k allocations: 459.801 MiB, 1.57% gc time)\n"
     ]
    }
   ],
   "source": [
    "@time begin \n",
    "    M = [rand(1000,1000) for _ = 1:20];\n",
    "    my_pmap(svd,M);\n",
    "end;"
   ]
  },
  {
   "cell_type": "markdown",
   "metadata": {},
   "source": [
    "### How does the serial version compare?"
   ]
  },
  {
   "cell_type": "code",
   "execution_count": 23,
   "metadata": {},
   "outputs": [
    {
     "name": "stdout",
     "output_type": "stream",
     "text": [
      " 20.294191 seconds (10.00 k allocations: 1.195 GiB, 5.08% gc time)\n"
     ]
    }
   ],
   "source": [
    "@time begin \n",
    "    M = [rand(1000,1000) for _ = 1:20]\n",
    "    map(svd,M)\n",
    "end;"
   ]
  },
  {
   "cell_type": "markdown",
   "metadata": {},
   "source": [
    "### Use `@everywhere` do define data on every process"
   ]
  },
  {
   "cell_type": "code",
   "execution_count": 25,
   "metadata": {},
   "outputs": [],
   "source": [
    "#calculate the SVD of a random square matrix\n",
    "@everywhere function calc_svd(i::Int)\n",
    "    M = rand(i,i)\n",
    "    return svd(M)\n",
    "end"
   ]
  },
  {
   "cell_type": "code",
   "execution_count": 29,
   "metadata": {},
   "outputs": [
    {
     "data": {
      "text/plain": [
       "([-0.0313593 0.00778317 … 0.0520004 -0.00405403; -0.0319202 0.0210451 … 0.0177618 -0.0270165; … ; -0.0318672 0.00370634 … -0.0355034 -0.0115457; -0.0320372 -0.0460958 … 0.0297155 -0.00947919], [500.47, 18.205, 18.0379, 17.9666, 17.9175, 17.8067, 17.7276, 17.6885, 17.668, 17.5635  …  0.142454, 0.131418, 0.114749, 0.0991385, 0.0732386, 0.0599413, 0.0483915, 0.0235702, 0.0200018, 0.00157804], [-0.0314898 -0.00541011 … 0.0225108 0.0073545; -0.0314878 0.0344167 … 0.007495 0.0148601; … ; -0.0318607 -0.0217017 … 0.00383985 0.0394869; -0.0308898 0.0213347 … 0.00100465 0.047732])"
      ]
     },
     "execution_count": 29,
     "metadata": {},
     "output_type": "execute_result"
    }
   ],
   "source": [
    "(U,E,V) = calc_svd(1000)\n"
   ]
  },
  {
   "cell_type": "markdown",
   "metadata": {},
   "source": [
    "**Here, we can use a custom function to tell Julia to create the matrices on the workers instead of the master process.  However, since SVD is more computationally intense, this is unlikely to produce much speedup**"
   ]
  },
  {
   "cell_type": "code",
   "execution_count": 27,
   "metadata": {},
   "outputs": [
    {
     "name": "stdout",
     "output_type": "stream",
     "text": [
      "Sent argument 1 to worker 2\n",
      "Sent argument 2 to worker 3\n",
      "Sent argument 3 to worker 4\n",
      "Sent argument 4 to worker 2\n",
      "Sent argument 5 to worker 3\n",
      "Sent argument 6 to worker 4\n",
      "Sent argument 7 to worker 3\n",
      "Sent argument 8 to worker 2\n",
      "Sent argument 9 to worker 4\n",
      "Sent argument 10 to worker 3\n",
      "Sent argument 11 to worker 4\n",
      "Sent argument 12 to worker 2\n",
      "Sent argument 13 to worker 3\n",
      "Sent argument 14 to worker 4\n",
      "Sent argument 15 to worker 2\n",
      "Sent argument 16 to worker 2\n",
      "Sent argument 17 to worker 4\n",
      "Sent argument 18 to worker 3\n",
      "Sent argument 19 to worker 2\n",
      "Sent argument 20 to worker 4\n",
      " 18.700734 seconds (39.08 k allocations: 307.003 MiB, 5.25% gc time)\n"
     ]
    }
   ],
   "source": [
    "@time my_pmap(calc_svd,[1000 for _ = 1:20]);"
   ]
  },
  {
   "cell_type": "markdown",
   "metadata": {},
   "source": [
    "---\n",
    "---"
   ]
  },
  {
   "cell_type": "markdown",
   "metadata": {},
   "source": [
    "## Another example: Calculating Pi using Monte Carlo Sampling"
   ]
  },
  {
   "cell_type": "markdown",
   "metadata": {},
   "source": [
    "![](MonteCarlo.png)"
   ]
  },
  {
   "cell_type": "markdown",
   "metadata": {},
   "source": [
    "**We can numerically estimate $\\pi$ by randomly generating points inside a quadrantand counting how many land inside the unit circle**"
   ]
  },
  {
   "cell_type": "markdown",
   "metadata": {},
   "source": [
    "$A_{square} = 1$\n",
    "\n",
    "$A_{circle} = \\frac{\\pi}{4}$\n",
    "\n",
    "$\\pi = 4 * \\frac{A_{circle}}{A_{square}}$"
   ]
  },
  {
   "cell_type": "markdown",
   "metadata": {},
   "source": [
    "For any uniformly distributed point with uniformly distributed random coordinates $(x,y) \\sim U(0,1)$, a point is in the unit circle if \n",
    "$x^2 + y^2 \\le 1$"
   ]
  },
  {
   "cell_type": "markdown",
   "metadata": {},
   "source": [
    "$x \\sim U(0,1)$\n",
    "\n",
    "$y \\sim U(0,1)$\n",
    "\n",
    "$x^2 + y^2 \\le 1$\n",
    "\n",
    "We can then estimate pi as the ratio of points inside the circle over total points generated:\n",
    "\n",
    "$ \\pi \\approx 4 * \\frac{\\text{N points inside circle}}{\\text{N total}}$"
   ]
  },
  {
   "cell_type": "markdown",
   "metadata": {},
   "source": [
    "### A reasonable serial implementation for Julia\n",
    "#### Here, we loop through 1 billion points and check if each is in the unit circle"
   ]
  },
  {
   "cell_type": "code",
   "execution_count": 10,
   "metadata": {},
   "outputs": [
    {
     "name": "stdout",
     "output_type": "stream",
     "text": [
      "elapsed time: 9.613884557 seconds\n",
      "approximation = 3.141588104\n"
     ]
    }
   ],
   "source": [
    "tic()\n",
    "function in_circle(numPoints)\n",
    "    N_inside = 0           #initially, no points in circle\n",
    "    for i = 1:numPoints\n",
    "        x = rand()\n",
    "        y = rand()\n",
    "        x^2 + y^2 < 1 ? N_inside += 1 : N_inside += 0\n",
    "    end\n",
    "    return N_inside\n",
    "end\n",
    "numPoints = 1E9\n",
    "pi_approx = 4 * in_circle(numPoints) / numPoints\n",
    "toc()\n",
    "println(\"approximation = \",pi_approx)"
   ]
  },
  {
   "cell_type": "markdown",
   "metadata": {},
   "source": [
    "## Exercise: Write a parallel code to estimate $\\pi$"
   ]
  },
  {
   "cell_type": "code",
   "execution_count": null,
   "metadata": {},
   "outputs": [],
   "source": [
    "#\n",
    "function in_circle(numPoints)\n",
    "    N_inside = 0\n",
    "    for i = 1:numPoints\n",
    "        x = rand()\n",
    "        y = rand()\n",
    "        x^2 + y^2 < 1 ? N_inside += 1 : N_inside += 0\n",
    "    end\n",
    "    return N_inside\n",
    "end\n",
    "numPoints = 1E9\n",
    "pi_approx = 4 * in_circle(numPoints) / numPoints\n",
    "\n",
    "#One hint: This can be done with partitions\n",
    "#e.g. partitions = [convert(Int64,round(numPoints / 3)) for i = 1:3]"
   ]
  },
  {
   "cell_type": "markdown",
   "metadata": {},
   "source": [
    "---\n",
    "---\n",
    "---\n",
    "---\n",
    "---"
   ]
  },
  {
   "cell_type": "markdown",
   "metadata": {},
   "source": [
    "## One Solution: Partitioned pmap implementation\n",
    "#### with pmap, we can partition into 3 subsets and have our workers run their own loops "
   ]
  },
  {
   "cell_type": "code",
   "execution_count": 1,
   "metadata": {},
   "outputs": [
    {
     "name": "stdout",
     "output_type": "stream",
     "text": [
      "elapsed time: 9.854903545 seconds\n",
      "3.14155876\n"
     ]
    }
   ],
   "source": [
    "tic()\n",
    "@everywhere function in_circle(numPoints)\n",
    "    N_inside = 0\n",
    "    for i = 1:numPoints\n",
    "        x = rand()\n",
    "        y = rand()\n",
    "        x^2 + y^2 < 1? N_inside += 1 : N_inside += 0\n",
    "    end\n",
    "    return N_inside\n",
    "end\n",
    "\n",
    "numPoints = 1E9\n",
    "partitions = [convert(Int64,round(numPoints / 3)) for i = 1:3]\n",
    "N_inside = pmap(in_circle, partitions)\n",
    "pi_approx = 4*sum(N_inside) / numPoints\n",
    "toc()\n",
    "println(pi_approx)"
   ]
  },
  {
   "cell_type": "markdown",
   "metadata": {},
   "source": [
    "## Another solution: `@parallel for` ( This was replaced with `@distributed for` in Julia v1.0)\n",
    "#### NOTE: `@parallel (<reduction>) for` allocates workers up front"
   ]
  },
  {
   "cell_type": "code",
   "execution_count": 101,
   "metadata": {},
   "outputs": [
    {
     "name": "stdout",
     "output_type": "stream",
     "text": [
      "elapsed time: 3.258154472 seconds\n",
      "3.14155292\n"
     ]
    }
   ],
   "source": [
    "tic()\n",
    "numPoints = 1E9\n",
    "inside = @parallel (+) for i = 1:numPoints\n",
    "    x = rand()\n",
    "    y = rand()\n",
    "    Int(x^2 + y^2 < 1)\n",
    "end\n",
    "toc()\n",
    "println(4 * inside / numPoints)"
   ]
  },
  {
   "cell_type": "markdown",
   "metadata": {},
   "source": [
    "## Be careful with `@parallel` when modifying variables"
   ]
  },
  {
   "cell_type": "code",
   "execution_count": 3,
   "metadata": {},
   "outputs": [
    {
     "name": "stdout",
     "output_type": "stream",
     "text": [
      "[0.0, 0.0, 0.0, 0.0, 0.0, 0.0, 0.0, 0.0, 0.0, 0.0]\n"
     ]
    }
   ],
   "source": [
    "a = zeros(10)\n",
    "@parallel for i = 1:10\n",
    "    a[i] = i\n",
    "end;\n",
    "println(a)"
   ]
  },
  {
   "cell_type": "markdown",
   "metadata": {},
   "source": [
    "**NOTE: What happened here is that each process got its own copy of a to do its processing.  As a result, the vector a on the master process did not change.**"
   ]
  },
  {
   "cell_type": "markdown",
   "metadata": {},
   "source": [
    "## Use a `SharedArray` to share values between all processes"
   ]
  },
  {
   "cell_type": "code",
   "execution_count": 4,
   "metadata": {},
   "outputs": [
    {
     "name": "stdout",
     "output_type": "stream",
     "text": [
      "[1.0, 2.0, 3.0, 4.0, 5.0, 6.0, 7.0, 8.0, 9.0, 10.0]\n"
     ]
    }
   ],
   "source": [
    "a = SharedArray{Float64}(10)\n",
    "result = @parallel for i = 1:10\n",
    "    a[i] = i\n",
    "end;\n",
    "println(a)"
   ]
  },
  {
   "cell_type": "code",
   "execution_count": null,
   "metadata": {},
   "outputs": [],
   "source": []
  }
 ],
 "metadata": {
  "kernelspec": {
   "display_name": "Julia 0.6.4",
   "language": "julia",
   "name": "julia-0.6"
  },
  "language_info": {
   "file_extension": ".jl",
   "mimetype": "application/julia",
   "name": "julia",
   "version": "0.6.4"
  }
 },
 "nbformat": 4,
 "nbformat_minor": 2
}
